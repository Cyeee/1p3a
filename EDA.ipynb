{
 "cells": [
  {
   "cell_type": "code",
   "execution_count": 4,
   "metadata": {
    "collapsed": true
   },
   "outputs": [],
   "source": [
    "import os\n",
    "import json\n",
    "import numpy as np\n",
    "import pandas as pd"
   ]
  },
  {
   "cell_type": "code",
   "execution_count": 9,
   "metadata": {
    "collapsed": false
   },
   "outputs": [
    {
     "data": {
      "text/plain": [
       "dict_keys(['hide', 'uid', 'views', 'ip', 'tid', 'fid', 'date', 'credits', 'groupid'])"
      ]
     },
     "execution_count": 9,
     "metadata": {},
     "output_type": "execute_result"
    }
   ],
   "source": [
    "dic.keys()"
   ]
  },
  {
   "cell_type": "code",
   "execution_count": 19,
   "metadata": {
    "collapsed": false
   },
   "outputs": [
    {
     "data": {
      "text/plain": [
       "0"
      ]
     },
     "execution_count": 19,
     "metadata": {},
     "output_type": "execute_result"
    }
   ],
   "source": [
    "dic['hide']"
   ]
  },
  {
   "cell_type": "code",
   "execution_count": 12,
   "metadata": {
    "collapsed": false
   },
   "outputs": [
    {
     "data": {
      "text/plain": [
       "dict_values([0, '7f1f9b841276d72fd5736c337716bc3eb5d3c452', 3792, '67.174.000.000', 'f4d89019d5f809509994cee01b350d788c150e13', '287', '2018-11-27 13:33:40', '0', '36dedb41152799c38f183131b7a610f89c9dcc27'])"
      ]
     },
     "execution_count": 12,
     "metadata": {},
     "output_type": "execute_result"
    }
   ],
   "source": [
    "dic.values()"
   ]
  },
  {
   "cell_type": "code",
   "execution_count": 20,
   "metadata": {
    "collapsed": false
   },
   "outputs": [
    {
     "data": {
      "text/plain": [
       "(0,\n",
       " '5e1f196707a5b18aadc345275e1a4d4af1d5ef5e',\n",
       " 16,\n",
       " '206.188.000.000',\n",
       " '94d8bdc4f4a5f6f63efe7f1a93e5866e7d29d888',\n",
       " '145',\n",
       " '2018-11-30 06:25:03',\n",
       " '107',\n",
       " 'f23f03e1da4c8f5beee35bad0ad12febdfca5995')"
      ]
     },
     "execution_count": 20,
     "metadata": {},
     "output_type": "execute_result"
    }
   ],
   "source": [
    "t"
   ]
  },
  {
   "cell_type": "code",
   "execution_count": 26,
   "metadata": {
    "collapsed": false
   },
   "outputs": [
    {
     "data": {
      "text/plain": [
       "\"(0, '5e1f196707a5b18aadc345275e1a4d4af1d5ef5e', 16, '206.188.000.000', '94d8bdc4f4a5f6f63efe7f1a93e5866e7d29d888', '145', '2018-11-30 06:25:03', '107', 'f23f03e1da4c8f5beee35bad0ad12febdfca5995')\""
      ]
     },
     "execution_count": 26,
     "metadata": {},
     "output_type": "execute_result"
    }
   ],
   "source": [
    "str(t)"
   ]
  },
  {
   "cell_type": "code",
   "execution_count": 29,
   "metadata": {
    "collapsed": false
   },
   "outputs": [],
   "source": [
    "ln = 0\n",
    "f = open(\"anonym_viewthread-20181130.log\",'r',encoding='utf-8')\n",
    "for line in f.readlines():\n",
    "    ln += 1\n",
    "    dic = json.loads(line)\n",
    "    t = dic['hide'],dic['uid'],dic['views'],dic['ip'],dic['tid'],dic['fid'],dic['date'],dic['credits'],dic['groupid']\n",
    "    f = open(\"20181130.txt\",'a',encoding='utf-8')\n",
    "    f.writelines(str(t))\n",
    "    f.write(\"\\n\")\n",
    "f.write(str(ln))\n",
    "f.close()"
   ]
  },
  {
   "cell_type": "code",
   "execution_count": 32,
   "metadata": {
    "collapsed": false
   },
   "outputs": [
    {
     "data": {
      "text/plain": [
       "921001"
      ]
     },
     "execution_count": 32,
     "metadata": {},
     "output_type": "execute_result"
    }
   ],
   "source": [
    "ln"
   ]
  },
  {
   "cell_type": "code",
   "execution_count": 30,
   "metadata": {
    "collapsed": true
   },
   "outputs": [],
   "source": [
    "data = pd.read_csv(\"data_20181130.txt\", sep=\",\", header=None)"
   ]
  },
  {
   "cell_type": "code",
   "execution_count": 31,
   "metadata": {
    "collapsed": false
   },
   "outputs": [
    {
     "data": {
      "text/html": [
       "<div>\n",
       "<style scoped>\n",
       "    .dataframe tbody tr th:only-of-type {\n",
       "        vertical-align: middle;\n",
       "    }\n",
       "\n",
       "    .dataframe tbody tr th {\n",
       "        vertical-align: top;\n",
       "    }\n",
       "\n",
       "    .dataframe thead th {\n",
       "        text-align: right;\n",
       "    }\n",
       "</style>\n",
       "<table border=\"1\" class=\"dataframe\">\n",
       "  <thead>\n",
       "    <tr style=\"text-align: right;\">\n",
       "      <th></th>\n",
       "      <th>0</th>\n",
       "      <th>1</th>\n",
       "      <th>2</th>\n",
       "      <th>3</th>\n",
       "      <th>4</th>\n",
       "      <th>5</th>\n",
       "      <th>6</th>\n",
       "      <th>7</th>\n",
       "      <th>8</th>\n",
       "    </tr>\n",
       "  </thead>\n",
       "  <tbody>\n",
       "    <tr>\n",
       "      <th>0</th>\n",
       "      <td>(0</td>\n",
       "      <td>'19a456ef3467d0328f6b34bb095c235a8aca86ff'</td>\n",
       "      <td>395</td>\n",
       "      <td>'73.42.000.000'</td>\n",
       "      <td>'37bfca887c74d08b7dda7790829106aeb69d7daa'</td>\n",
       "      <td>'145'</td>\n",
       "      <td>'2018-11-27 13:33:38'</td>\n",
       "      <td>0</td>\n",
       "      <td>'314786709c4319bc9611a782ff5e836f61786592')</td>\n",
       "    </tr>\n",
       "    <tr>\n",
       "      <th>1</th>\n",
       "      <td>(0</td>\n",
       "      <td>'19a456ef3467d0328f6b34bb095c235a8aca86ff'</td>\n",
       "      <td>973</td>\n",
       "      <td>'157.55.000.000'</td>\n",
       "      <td>'37bfca887c74d08b7dda7790829106aeb69d7daa'</td>\n",
       "      <td>'87'</td>\n",
       "      <td>'2018-11-27 13:33:38'</td>\n",
       "      <td>0</td>\n",
       "      <td>'314786709c4319bc9611a782ff5e836f61786592')</td>\n",
       "    </tr>\n",
       "    <tr>\n",
       "      <th>2</th>\n",
       "      <td>(188</td>\n",
       "      <td>'e943987aaa831a93c47c3fcc00970156f06f1932'</td>\n",
       "      <td>22495</td>\n",
       "      <td>'71.204.000.000'</td>\n",
       "      <td>'efe1fb334f3072d1501076388fbd2a1789543b96'</td>\n",
       "      <td>'145'</td>\n",
       "      <td>'2018-11-27 13:33:38'</td>\n",
       "      <td>'335'</td>\n",
       "      <td>'3ec8d2ff8ca01fce532be5dcb8c5668c60c16cd9')</td>\n",
       "    </tr>\n",
       "    <tr>\n",
       "      <th>3</th>\n",
       "      <td>(0</td>\n",
       "      <td>'19a456ef3467d0328f6b34bb095c235a8aca86ff'</td>\n",
       "      <td>41269</td>\n",
       "      <td>'72.193.000.000'</td>\n",
       "      <td>'37bfca887c74d08b7dda7790829106aeb69d7daa'</td>\n",
       "      <td>'127'</td>\n",
       "      <td>'2018-11-27 13:33:39'</td>\n",
       "      <td>0</td>\n",
       "      <td>'314786709c4319bc9611a782ff5e836f61786592')</td>\n",
       "    </tr>\n",
       "    <tr>\n",
       "      <th>4</th>\n",
       "      <td>(0</td>\n",
       "      <td>'1b495d735924b8c13c0dfec3d48ee081998da026'</td>\n",
       "      <td>247</td>\n",
       "      <td>'218.97.000.000'</td>\n",
       "      <td>'c45c217985c8128c1f6d8d0e555119fd78dfd561'</td>\n",
       "      <td>'124'</td>\n",
       "      <td>'2018-11-27 13:33:40'</td>\n",
       "      <td>'721'</td>\n",
       "      <td>'3ec8d2ff8ca01fce532be5dcb8c5668c60c16cd9')</td>\n",
       "    </tr>\n",
       "  </tbody>\n",
       "</table>\n",
       "</div>"
      ],
      "text/plain": [
       "      0                                            1       2  \\\n",
       "0    (0   '19a456ef3467d0328f6b34bb095c235a8aca86ff'     395   \n",
       "1    (0   '19a456ef3467d0328f6b34bb095c235a8aca86ff'     973   \n",
       "2  (188   'e943987aaa831a93c47c3fcc00970156f06f1932'   22495   \n",
       "3    (0   '19a456ef3467d0328f6b34bb095c235a8aca86ff'   41269   \n",
       "4    (0   '1b495d735924b8c13c0dfec3d48ee081998da026'     247   \n",
       "\n",
       "                   3                                            4       5  \\\n",
       "0    '73.42.000.000'   '37bfca887c74d08b7dda7790829106aeb69d7daa'   '145'   \n",
       "1   '157.55.000.000'   '37bfca887c74d08b7dda7790829106aeb69d7daa'    '87'   \n",
       "2   '71.204.000.000'   'efe1fb334f3072d1501076388fbd2a1789543b96'   '145'   \n",
       "3   '72.193.000.000'   '37bfca887c74d08b7dda7790829106aeb69d7daa'   '127'   \n",
       "4   '218.97.000.000'   'c45c217985c8128c1f6d8d0e555119fd78dfd561'   '124'   \n",
       "\n",
       "                        6       7  \\\n",
       "0   '2018-11-27 13:33:38'       0   \n",
       "1   '2018-11-27 13:33:38'       0   \n",
       "2   '2018-11-27 13:33:38'   '335'   \n",
       "3   '2018-11-27 13:33:39'       0   \n",
       "4   '2018-11-27 13:33:40'   '721'   \n",
       "\n",
       "                                              8  \n",
       "0   '314786709c4319bc9611a782ff5e836f61786592')  \n",
       "1   '314786709c4319bc9611a782ff5e836f61786592')  \n",
       "2   '3ec8d2ff8ca01fce532be5dcb8c5668c60c16cd9')  \n",
       "3   '314786709c4319bc9611a782ff5e836f61786592')  \n",
       "4   '3ec8d2ff8ca01fce532be5dcb8c5668c60c16cd9')  "
      ]
     },
     "execution_count": 31,
     "metadata": {},
     "output_type": "execute_result"
    }
   ],
   "source": [
    "data.head()"
   ]
  },
  {
   "cell_type": "code",
   "execution_count": 8,
   "metadata": {
    "collapsed": false
   },
   "outputs": [
    {
     "name": "stdout",
     "output_type": "stream",
     "text": [
      "{'hide': 0, 'uid': '19a456ef3467d0328f6b34bb095c235a8aca86ff', 'views': 395, 'ip': '73.42.000.000', 'tid': '37bfca887c74d08b7dda7790829106aeb69d7daa', 'fid': '145', 'date': '2018-11-27 13:33:38', 'credits': 0, 'groupid': '314786709c4319bc9611a782ff5e836f61786592'}\n",
      "{'hide': 0, 'uid': '19a456ef3467d0328f6b34bb095c235a8aca86ff', 'views': 973, 'ip': '157.55.000.000', 'tid': '37bfca887c74d08b7dda7790829106aeb69d7daa', 'fid': '87', 'date': '2018-11-27 13:33:38', 'credits': 0, 'groupid': '314786709c4319bc9611a782ff5e836f61786592'}\n",
      "{'hide': 188, 'uid': 'e943987aaa831a93c47c3fcc00970156f06f1932', 'views': 22495, 'ip': '71.204.000.000', 'tid': 'efe1fb334f3072d1501076388fbd2a1789543b96', 'fid': '145', 'date': '2018-11-27 13:33:38', 'credits': '335', 'groupid': '3ec8d2ff8ca01fce532be5dcb8c5668c60c16cd9'}\n",
      "{'hide': 0, 'uid': '19a456ef3467d0328f6b34bb095c235a8aca86ff', 'views': 41269, 'ip': '72.193.000.000', 'tid': '37bfca887c74d08b7dda7790829106aeb69d7daa', 'fid': '127', 'date': '2018-11-27 13:33:39', 'credits': 0, 'groupid': '314786709c4319bc9611a782ff5e836f61786592'}\n",
      "{'hide': 0, 'uid': '1b495d735924b8c13c0dfec3d48ee081998da026', 'views': 247, 'ip': '218.97.000.000', 'tid': 'c45c217985c8128c1f6d8d0e555119fd78dfd561', 'fid': '124', 'date': '2018-11-27 13:33:40', 'credits': '721', 'groupid': '3ec8d2ff8ca01fce532be5dcb8c5668c60c16cd9'}\n"
     ]
    }
   ],
   "source": [
    "\n",
    "f = open(\"anonym_viewthread-20181130.log\",'r',encoding='utf-8')\n",
    "ln = 0\n",
    "for line in f.readlines():\n",
    "    ln += 1\n",
    "    dic = json.loads(line)\n",
    "    #t = dic['id'],dic['com_name'],dic['com_register_time']\n",
    "    if ln>5:\n",
    "        break\n",
    "    else:\n",
    "        print(dic)\n",
    "    #f = open(\"out/data.txt\",'a',encoding='utf-8')\n",
    "    #f.writelines(str(t));\n",
    "    #f.write(\"\\n\")\n",
    "    #f.write(str(ln))\n"
   ]
  },
  {
   "cell_type": "code",
   "execution_count": null,
   "metadata": {
    "collapsed": true
   },
   "outputs": [],
   "source": []
  }
 ],
 "metadata": {
  "kernelspec": {
   "display_name": "Python 3",
   "language": "python",
   "name": "python3"
  },
  "language_info": {
   "codemirror_mode": {
    "name": "ipython",
    "version": 3
   },
   "file_extension": ".py",
   "mimetype": "text/x-python",
   "name": "python",
   "nbconvert_exporter": "python",
   "pygments_lexer": "ipython3",
   "version": "3.6.0"
  }
 },
 "nbformat": 4,
 "nbformat_minor": 2
}
